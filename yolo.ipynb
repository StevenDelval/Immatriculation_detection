{
 "cells": [
  {
   "cell_type": "code",
   "execution_count": 42,
   "metadata": {},
   "outputs": [],
   "source": [
    "##########################################\n",
    "import numpy as np                       # NumPy pour le traitement de tableaux et matrices\n",
    "import cv2                               # OpenCV pour la vision par ordinateur\n",
    "from ultralytics import YOLO             # Import de la classe YOLO du module Ultralytics\n",
    "import os                                # Module pour interagir avec le système d'exploitation\n",
    "import time                              # Module pour mesurer le temps d'exécution\n",
    "from PIL import Image                          \n",
    "from bounding_box import bounding_box as bb"
   ]
  },
  {
   "cell_type": "code",
   "execution_count": 21,
   "metadata": {},
   "outputs": [],
   "source": [
    "#  Chargement des modèles YOLO\n",
    "##############################################\n",
    "model_immat = YOLO(\"yolov8n.pt\")"
   ]
  },
  {
   "cell_type": "code",
   "execution_count": 24,
   "metadata": {},
   "outputs": [
    {
     "name": "stderr",
     "output_type": "stream",
     "text": [
      "\n",
      "0: 608x800 1 plate, 70.4ms\n",
      "Speed: 9.3ms preprocess, 70.4ms inference, 1.9ms postprocess per image at shape (1, 3, 608, 800)\n"
     ]
    }
   ],
   "source": [
    "results = model_immat([\"./img/test2.jpeg\"])"
   ]
  },
  {
   "cell_type": "code",
   "execution_count": 27,
   "metadata": {},
   "outputs": [
    {
     "data": {
      "text/plain": [
       "[ultralytics.engine.results.Results object with attributes:\n",
       " \n",
       " boxes: ultralytics.engine.results.Boxes object\n",
       " keypoints: None\n",
       " masks: None\n",
       " names: {0: 'plate'}\n",
       " orig_img: array([[[ 22,  84,  48],\n",
       "         [  2,  60,  25],\n",
       "         [  8,  59,  25],\n",
       "         ...,\n",
       "         [ 60,  70,  47],\n",
       "         [ 34,  47,  23],\n",
       "         [ 32,  45,  21]],\n",
       " \n",
       "        [[ 21,  83,  47],\n",
       "         [ 28,  89,  53],\n",
       "         [ 21,  72,  38],\n",
       "         ...,\n",
       "         [ 49,  58,  37],\n",
       "         [ 21,  34,  10],\n",
       "         [ 13,  25,   3]],\n",
       " \n",
       "        [[ 35, 100,  61],\n",
       "         [ 32,  93,  55],\n",
       "         [ 37,  89,  52],\n",
       "         ...,\n",
       "         [ 51,  60,  39],\n",
       "         [ 30,  42,  20],\n",
       "         [ 24,  35,  15]],\n",
       " \n",
       "        ...,\n",
       " \n",
       "        [[ 83, 103, 180],\n",
       "         [ 86, 106, 183],\n",
       "         [ 87, 108, 183],\n",
       "         ...,\n",
       "         [ 74,  92, 155],\n",
       "         [ 74,  92, 155],\n",
       "         [ 74,  92, 155]],\n",
       " \n",
       "        [[100, 117, 190],\n",
       "         [ 83, 100, 173],\n",
       "         [ 84, 103, 176],\n",
       "         ...,\n",
       "         [ 82, 103, 165],\n",
       "         [ 82, 103, 165],\n",
       "         [ 81, 102, 164]],\n",
       " \n",
       "        [[ 99, 114, 186],\n",
       "         [ 81,  99, 170],\n",
       "         [ 84, 101, 174],\n",
       "         ...,\n",
       "         [ 82, 103, 165],\n",
       "         [ 82, 103, 165],\n",
       "         [ 81, 102, 164]]], dtype=uint8)\n",
       " orig_shape: (194, 259)\n",
       " path: '/home/apprenant/Bureau/Immat/img/test2.jpeg'\n",
       " probs: None\n",
       " save_dir: None\n",
       " speed: {'preprocess': 9.316444396972656, 'inference': 70.35088539123535, 'postprocess': 1.8568038940429688}]"
      ]
     },
     "execution_count": 27,
     "metadata": {},
     "output_type": "execute_result"
    }
   ],
   "source": [
    "results"
   ]
  },
  {
   "cell_type": "code",
   "execution_count": 43,
   "metadata": {},
   "outputs": [],
   "source": [
    "for r in results:\n",
    "    im_array = r.plot()  # plot a BGR numpy array of predictions\n",
    "    im = Image.fromarray(im_array[..., ::-1])  # RGB PIL image\n",
    "    im.show()  # show image\n",
    "    # im.save('results.jpg')  # save image"
   ]
  }
 ],
 "metadata": {
  "kernelspec": {
   "display_name": "immat",
   "language": "python",
   "name": "python3"
  },
  "language_info": {
   "codemirror_mode": {
    "name": "ipython",
    "version": 3
   },
   "file_extension": ".py",
   "mimetype": "text/x-python",
   "name": "python",
   "nbconvert_exporter": "python",
   "pygments_lexer": "ipython3",
   "version": "3.10.14"
  }
 },
 "nbformat": 4,
 "nbformat_minor": 2
}
