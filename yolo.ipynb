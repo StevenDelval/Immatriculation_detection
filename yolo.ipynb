{
 "cells": [
  {
   "cell_type": "code",
   "execution_count": 15,
   "metadata": {},
   "outputs": [],
   "source": [
    "##########################################\n",
    "import numpy as np                       # NumPy pour le traitement de tableaux et matrices\n",
    "import cv2                               # OpenCV pour la vision par ordinateur\n",
    "from ultralytics import YOLO             # Import de la classe YOLO du module Ultralytics\n",
    "import os                                # Module pour interagir avec le système d'exploitation\n",
    "import time                              # Module pour mesurer le temps d'exécution\n",
    "from PIL import Image   \n",
    "import matplotlib.pyplot  as plt                      "
   ]
  },
  {
   "cell_type": "code",
   "execution_count": 16,
   "metadata": {},
   "outputs": [],
   "source": [
    "#  Chargement des modèles YOLO\n",
    "##############################################\n",
    "model_immat = YOLO(\"yolov8n.pt\")"
   ]
  },
  {
   "cell_type": "code",
   "execution_count": 17,
   "metadata": {},
   "outputs": [
    {
     "name": "stderr",
     "output_type": "stream",
     "text": [
      "\n",
      "0: 576x800 2 plates, 73.9ms\n",
      "Speed: 4.1ms preprocess, 73.9ms inference, 3.0ms postprocess per image at shape (1, 3, 576, 800)\n"
     ]
    }
   ],
   "source": [
    "results = model_immat([\"./img/test3.jpg\"])"
   ]
  },
  {
   "cell_type": "code",
   "execution_count": 18,
   "metadata": {},
   "outputs": [
    {
     "data": {
      "text/plain": [
       "[ultralytics.engine.results.Results object with attributes:\n",
       " \n",
       " boxes: ultralytics.engine.results.Boxes object\n",
       " keypoints: None\n",
       " masks: None\n",
       " names: {0: 'plate'}\n",
       " orig_img: array([[[ 89, 107, 124],\n",
       "         [ 93, 111, 128],\n",
       "         [ 81,  99, 116],\n",
       "         ...,\n",
       "         [ 94, 111, 130],\n",
       "         [ 85, 102, 121],\n",
       "         [ 86, 106, 123]],\n",
       " \n",
       "        [[ 90, 108, 125],\n",
       "         [ 83, 101, 118],\n",
       "         [ 86, 104, 121],\n",
       "         ...,\n",
       "         [ 92, 109, 128],\n",
       "         [ 89, 106, 125],\n",
       "         [ 93, 113, 130]],\n",
       " \n",
       "        [[ 89, 107, 124],\n",
       "         [ 82, 100, 117],\n",
       "         [ 85, 103, 120],\n",
       "         ...,\n",
       "         [ 93, 110, 129],\n",
       "         [ 89, 106, 125],\n",
       "         [ 91, 111, 128]],\n",
       " \n",
       "        ...,\n",
       " \n",
       "        [[164, 187, 209],\n",
       "         [187, 208, 230],\n",
       "         [139, 156, 182],\n",
       "         ...,\n",
       "         [157, 174, 187],\n",
       "         [189, 205, 217],\n",
       "         [156, 173, 182]],\n",
       " \n",
       "        [[128, 148, 166],\n",
       "         [191, 209, 226],\n",
       "         [181, 197, 214],\n",
       "         ...,\n",
       "         [168, 187, 200],\n",
       "         [164, 183, 191],\n",
       "         [171, 189, 196]],\n",
       " \n",
       "        [[168, 184, 201],\n",
       "         [187, 200, 214],\n",
       "         [210, 224, 236],\n",
       "         ...,\n",
       "         [173, 192, 205],\n",
       "         [163, 181, 192],\n",
       "         [161, 180, 188]]], dtype=uint8)\n",
       " orig_shape: (1102, 1568)\n",
       " path: '/home/apprenant/Bureau/Immat/img/test3.jpg'\n",
       " probs: None\n",
       " save_dir: None\n",
       " speed: {'preprocess': 4.057407379150391, 'inference': 73.88925552368164, 'postprocess': 2.972126007080078}]"
      ]
     },
     "execution_count": 18,
     "metadata": {},
     "output_type": "execute_result"
    }
   ],
   "source": [
    "results"
   ]
  },
  {
   "cell_type": "code",
   "execution_count": 20,
   "metadata": {},
   "outputs": [
    {
     "name": "stdout",
     "output_type": "stream",
     "text": [
      "(1102, 1568, 3)\n"
     ]
    }
   ],
   "source": [
    "for r in results:\n",
    "    im_array = r.plot()  # plot a BGR numpy array of predictions\n",
    "    im = Image.fromarray(im_array[..., ::-1])  # RGB PIL image\n",
    "    # im.show()  # show image\n",
    "    x1, y1, x2, y2 = r.boxes.xyxy[0]\n",
    "    x1, y1, x2, y2 = int(x1), int(y1), int(x2), int(y2)  # convert to int values\n",
    "    im= np.array(im)\n",
    "    \n",
    "    print(im.shape) # Print image shape\n",
    "    cv2.imshow(\"original\", im)\n",
    "    \n",
    "    # Cropping an image\n",
    "    cropped_image = im[y1:y2, x1:x2]\n",
    "    \n",
    "    # Display cropped image\n",
    "    cv2.imshow(\"cropped\", cropped_image)\n",
    "    \n",
    "    cv2.waitKey(0)\n",
    "    cv2.destroyAllWindows()"
   ]
  }
 ],
 "metadata": {
  "kernelspec": {
   "display_name": "immat",
   "language": "python",
   "name": "python3"
  },
  "language_info": {
   "codemirror_mode": {
    "name": "ipython",
    "version": 3
   },
   "file_extension": ".py",
   "mimetype": "text/x-python",
   "name": "python",
   "nbconvert_exporter": "python",
   "pygments_lexer": "ipython3",
   "version": "3.10.14"
  }
 },
 "nbformat": 4,
 "nbformat_minor": 2
}
