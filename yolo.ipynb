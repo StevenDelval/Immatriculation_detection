{
 "cells": [
  {
   "cell_type": "code",
   "execution_count": null,
   "metadata": {},
   "outputs": [],
   "source": [
    "##########################################\n",
    "import numpy as np                       # NumPy pour le traitement de tableaux et matrices\n",
    "import cv2                               # OpenCV pour la vision par ordinateur\n",
    "from ultralytics import YOLO             # Import de la classe YOLO du module Ultralytics\n",
    "import os                                # Module pour interagir avec le système d'exploitation\n",
    "import time                              # Module pour mesurer le temps d'exécution"
   ]
  },
  {
   "cell_type": "code",
   "execution_count": null,
   "metadata": {},
   "outputs": [],
   "source": [
    "#  Chargement des modèles YOLO\n",
    "##############################################\n",
    "model_immat = YOLO(\"yolov8n.pt\")"
   ]
  }
 ],
 "metadata": {
  "language_info": {
   "name": "python"
  }
 },
 "nbformat": 4,
 "nbformat_minor": 2
}
